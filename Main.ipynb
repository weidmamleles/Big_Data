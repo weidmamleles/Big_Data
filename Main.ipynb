{
 "cells": [
  {
   "cell_type": "markdown",
   "metadata": {},
   "source": [
    "<h1>Processamento e Modelação de Big Data</h1>"
   ]
  },
  {
   "cell_type": "code",
   "execution_count": null,
   "metadata": {},
   "outputs": [],
   "source": [
    "#!pip install ipynb"
   ]
  },
  {
   "cell_type": "markdown",
   "metadata": {},
   "source": [
    "<h3> Importes </h3>"
   ]
  },
  {
   "cell_type": "code",
   "execution_count": null,
   "metadata": {},
   "outputs": [],
   "source": [
    "from ipynb.fs.full.DataAnalysis import DataAnalysis\n",
    "from ipynb.fs.full.MLModel import MLModel\n",
    "import seaborn as sns\n",
    "import findspark\n",
    "findspark.init()\n",
    "import pyspark\n",
    "from pyspark.sql import SparkSession"
   ]
  },
  {
   "cell_type": "code",
   "execution_count": null,
   "metadata": {},
   "outputs": [],
   "source": [
    "spark = SparkSession\\\n",
    "    .builder\\\n",
    "    .appName(\"BigData\")\\\n",
    "    .config(\"spark.sql.shuffle.partitions\",6)\\\n",
    "    .getOrCreate()"
   ]
  },
  {
   "cell_type": "markdown",
   "metadata": {},
   "source": [
    "<h3> Leitura do ficheiro CSV com o Spark </h3>"
   ]
  },
  {
   "cell_type": "code",
   "execution_count": null,
   "metadata": {},
   "outputs": [],
   "source": [
    "df = spark.read.format(\"csv\").option(\"header\",\"true\").load(\"train.csv\")"
   ]
  },
  {
   "cell_type": "markdown",
   "metadata": {},
   "source": [
    "<h3> Criação do objecto Data Analysis e teste ao núcleo do Spark </h3>"
   ]
  },
  {
   "cell_type": "code",
   "execution_count": null,
   "metadata": {},
   "outputs": [],
   "source": [
    "da = DataAnalysis(df,spark)\n",
    "da.getSpark()"
   ]
  },
  {
   "cell_type": "markdown",
   "metadata": {},
   "source": [
    "<h1> Análise Exploratória </h1>"
   ]
  },
  {
   "cell_type": "markdown",
   "metadata": {},
   "source": [
    "<h3> Total do número de registos inicial do Dataset </h3>"
   ]
  },
  {
   "cell_type": "code",
   "execution_count": null,
   "metadata": {},
   "outputs": [],
   "source": [
    "da.getRecordsCount()"
   ]
  },
  {
   "cell_type": "markdown",
   "metadata": {},
   "source": [
    "<h3> Total do número de colunas inicial do Dataset </h3>"
   ]
  },
  {
   "cell_type": "code",
   "execution_count": null,
   "metadata": {},
   "outputs": [],
   "source": [
    "len(da.getCols())"
   ]
  },
  {
   "cell_type": "markdown",
   "metadata": {},
   "source": [
    "<h3> Eliminação das colunas que contêm mais de 25% de valores nulos</h3>"
   ]
  },
  {
   "cell_type": "code",
   "execution_count": null,
   "metadata": {},
   "outputs": [],
   "source": [
    "da.dropColNA(0.25)"
   ]
  },
  {
   "cell_type": "markdown",
   "metadata": {},
   "source": [
    "<h3> Total do número de colunas após eliminação </h3>"
   ]
  },
  {
   "cell_type": "code",
   "execution_count": null,
   "metadata": {},
   "outputs": [],
   "source": [
    "len(da.getCols())"
   ]
  },
  {
   "cell_type": "markdown",
   "metadata": {},
   "source": [
    "<h3> Eliminação da coluna MachineIdentifier </h3>"
   ]
  },
  {
   "cell_type": "code",
   "execution_count": null,
   "metadata": {},
   "outputs": [],
   "source": [
    "da.dropCol('MachineIdentifier')"
   ]
  },
  {
   "cell_type": "code",
   "execution_count": null,
   "metadata": {},
   "outputs": [],
   "source": [
    "len(da.getCols())"
   ]
  },
  {
   "cell_type": "markdown",
   "metadata": {},
   "source": [
    "<h3> Eliminação das linhas que contêm pelo menos uma das colunas com valor nulo </h3>"
   ]
  },
  {
   "cell_type": "code",
   "execution_count": null,
   "metadata": {},
   "outputs": [],
   "source": [
    "da.dropRowNA()"
   ]
  },
  {
   "cell_type": "markdown",
   "metadata": {},
   "source": [
    "<h3>Contagem do número de registos após eliminação </h3>"
   ]
  },
  {
   "cell_type": "code",
   "execution_count": null,
   "metadata": {},
   "outputs": [],
   "source": [
    "da.getRecordsCount()"
   ]
  },
  {
   "cell_type": "markdown",
   "metadata": {},
   "source": [
    "<h3>Análise gráfica acerca da distribuição de valores de uma dada coluna(Exemplo: Firewall)</h3>"
   ]
  },
  {
   "cell_type": "code",
   "execution_count": null,
   "metadata": {},
   "outputs": [],
   "source": [
    "da.getCountPlot(\"Firewall\")"
   ]
  },
  {
   "cell_type": "markdown",
   "metadata": {},
   "source": [
    "<h3>Eliminação dos registos que contêm o valor de -1 das colunas que tratam acerca da resolução do ecrã</h3>"
   ]
  },
  {
   "cell_type": "code",
   "execution_count": null,
   "metadata": {},
   "outputs": [],
   "source": [
    "da.dropValFromCol(\"Census_InternalPrimaryDisplayResolutionVertical\",-1)\n",
    "da.dropValFromCol(\"Census_InternalPrimaryDisplayResolutionHorizontal\",-1)"
   ]
  },
  {
   "cell_type": "code",
   "execution_count": null,
   "metadata": {},
   "outputs": [],
   "source": [
    "da.getRecordsCount()"
   ]
  },
  {
   "cell_type": "markdown",
   "metadata": {},
   "source": [
    "<h3>Transformação dos dados, String to Int</h3>"
   ]
  },
  {
   "cell_type": "code",
   "execution_count": null,
   "metadata": {},
   "outputs": [],
   "source": [
    "col_types = {\"IsBeta\":\"int\", \"RtpStateBitfield\":\"int\", \"IsSxsPassiveMode\":\"int\", \"AVProductStatesIdentifier\":\"int\",\\\n",
    "                     \"AVProductsInstalled\":\"int\" , \"AVProductsEnabled\":\"int\",\"HasTpm\":\"int\",\"CountryIdentifier\":\"int\",\\\n",
    "                     \"CityIdentifier\":\"int\",\"GeoNameIdentifier\":\"int\",\"LocaleEnglishNameIdentifier\":\"int\",\\\n",
    "                     \"OsBuild\":\"int\",\"OsSuite\":\"int\",\"IsProtected\":\"int\",\\\n",
    "                     \"AutoSampleOptIn\":\"int\", \"SMode\":\"int\", \"IeVerIdentifier\":\"int\", \"Firewall\":\"int\", \n",
    "                     \"UacLuaenable\":\"int\",\"Census_OEMNameIdentifier\":\"int\",\"Census_OEMModelIdentifier\":\"int\",\\\n",
    "                     \"Census_ProcessorCoreCount\":\"int\",\"Census_ProcessorManufacturerIdentifier\":\"int\",\\\n",
    "                     \"Census_ProcessorModelIdentifier\":\"int\",\"Census_PrimaryDiskTotalCapacity\":\"double\",\\\n",
    "                     \"Census_SystemVolumeTotalCapacity\":\"int\",\"Census_HasOpticalDiskDrive\":\"int\",\\\n",
    "                     \"Census_TotalPhysicalRAM\":\"int\", \"Census_InternalPrimaryDiagonalDisplaySizeInInches\":\"double\", \\\n",
    "                     \"Census_InternalPrimaryDisplayResolutionHorizontal\":\"int\", \\\n",
    "                     \"Census_InternalPrimaryDisplayResolutionVertical\": \"int\", \"Census_InternalBatteryNumberOfCharges\":\"double\",\\\n",
    "                     \"Census_OSBuildNumber\":\"int\", \"Census_OSBuildRevision\":\"int\", \"Census_OSInstallLanguageIdentifier\":\"int\",\\\n",
    "                     \"Census_OSUILocaleIdentifier\":\"int\", \"Census_IsPortableOperatingSystem\": \"int\",\\\n",
    "                     \"Census_IsFlightsDisabled\":\"int\",\"Census_FirmwareManufacturerIdentifier\":\"int\",\\\n",
    "                     \"Census_FirmwareVersionIdentifier\":\"int\",\"Census_IsSecureBootEnabled\":\"int\",\\\n",
    "                     \"Census_IsVirtualDevice\":\"int\",\"Census_IsTouchEnabled\":\"int\",\"Census_IsPenCapable\":\"int\",\\\n",
    "                     \"Census_IsAlwaysOnAlwaysConnectedCapable\":\"int\",\"Wdft_IsGamer\":\"int\",\"Wdft_RegionIdentifier\":\"int\",\\\n",
    "                     \"HasDetections\":\"int\"}\n",
    "\n",
    "\n",
    "\n",
    "da.changeColDataTypes(col_types)\n"
   ]
  },
  {
   "cell_type": "markdown",
   "metadata": {},
   "source": [
    "<h3>Transformação dos dados, Categorical to Int (Label Enconding / Ordinal Enconding)</h3>"
   ]
  },
  {
   "cell_type": "code",
   "execution_count": null,
   "metadata": {},
   "outputs": [],
   "source": [
    "string_to_int = {\"ProductName\":\"int\",\"EngineVersion\":\"int\",\"AppVersion\":\"int\", \"AvSigVersion\":\"int\", \"Platform\":\"int\", \"Processor\":\"int\", \n",
    "                 \"OsVer\":\"int\", \"OsPlatformSubRelease\":\"int\", \"OsBuildLab\":\"int\", \"SkuEdition\":\"int\",\"Census_MDC2FormFactor\":\"int\", \"Census_DeviceFamily\":\"int\", \"Census_ChassisTypeName\":\"int\", \n",
    "                 \"Census_PowerPlatformRoleName\":\"int\",\"Census_OSVersion\":\"int\", \"Census_OSArchitecture\":\"int\", \"Census_OSBranch\":\"int\", \"Census_OSEdition\":\"int\", \"Census_OSSkuName\":\"int\", \n",
    "                  \"Census_OSInstallTypeName\":\"int\", \"Census_OSWUAutoUpdateOptionsName\":\"int\", \"Census_GenuineStateName\":\"int\",\n",
    "                  \"Census_ActivationChannel\":\"int\", \"Census_FlightRing\":\"int\",\"Census_PrimaryDiskTypeName\":\"int\"}\n",
    "\n",
    "da.stringToInt(string_to_int)\n",
    "\n"
   ]
  },
  {
   "cell_type": "markdown",
   "metadata": {},
   "source": [
    "<h3>Confirmação da alteração de todas as variáveis String</h3>"
   ]
  },
  {
   "cell_type": "code",
   "execution_count": null,
   "metadata": {},
   "outputs": [],
   "source": [
    "da.getdf().dtypes"
   ]
  },
  {
   "cell_type": "markdown",
   "metadata": {},
   "source": [
    "<h3>Remoção das colunas que apresentam multicolinearidade</h3>"
   ]
  },
  {
   "cell_type": "code",
   "execution_count": null,
   "metadata": {},
   "outputs": [],
   "source": [
    "da.removeMulticolinearity()"
   ]
  },
  {
   "cell_type": "markdown",
   "metadata": {},
   "source": [
    "<h3> Total do número de colunas após eliminação </h3>"
   ]
  },
  {
   "cell_type": "code",
   "execution_count": null,
   "metadata": {},
   "outputs": [],
   "source": [
    "len(da.getCols())"
   ]
  },
  {
   "cell_type": "markdown",
   "metadata": {},
   "source": [
    "<h3> Total do número de registos após a fase de limpeza dos dados </h3>"
   ]
  },
  {
   "cell_type": "code",
   "execution_count": null,
   "metadata": {},
   "outputs": [],
   "source": [
    "da.getRecordsCount()"
   ]
  },
  {
   "cell_type": "markdown",
   "metadata": {},
   "source": [
    "<h1> Modelos de classificação </h1>"
   ]
  },
  {
   "cell_type": "markdown",
   "metadata": {},
   "source": [
    "<h3> Criação dos vetores das colunas contínuas, categóricas que não são aceites no teste de Chi Quadrado e categóricas que são aceites </h3>"
   ]
  },
  {
   "cell_type": "code",
   "execution_count": null,
   "metadata": {},
   "outputs": [],
   "source": [
    "cont_cols = [\"Census_PrimaryDiskTotalCapacity\",\"Census_TotalPhysicalRAM\",\\\n",
    "                \"Census_InternalPrimaryDiagonalDisplaySizeInInches\",\"Census_InternalPrimaryDisplayResolutionHorizontal\",\\\n",
    "               \"Census_InternalBatteryNumberOfCharges\",\"Census_SystemVolumeTotalCapacity\"]\n",
    "\n",
    "\n",
    "categorical_to_drop = [\"Census_FirmwareVersionIdentifier\",\"Census_OEMModelIdentifier\",\"CityIdentifier\",\"AVProductStatesIdentifier\"]\n",
    "\n",
    "\n",
    "df = da.getdf().drop(*categorical_to_drop)\n",
    "cols = df.columns\n",
    "cat_cols = df.columns\n",
    "cat_cols.remove(\"HasDetections\")\n",
    "for col in cont_cols:\n",
    "    cat_cols.remove(col)\n",
    "\n",
    "\n",
    "label = \"HasDetections\"\n",
    "cols.remove(label)"
   ]
  },
  {
   "cell_type": "markdown",
   "metadata": {},
   "source": [
    "<h3> Criação e obtenção de resultados para os três modelos idealizados aplicando o método de redução de colunas(p-value < 0.05)</h3> \n",
    "                                                                        "
   ]
  },
  {
   "cell_type": "code",
   "execution_count": null,
   "metadata": {},
   "outputs": [],
   "source": [
    "model = MLModel(df,spark,cols,label)\n",
    "model.setTrainLimit(0.4)\n",
    "model.reduceCols(\"p-value\",0.05,cat_cols,cont_cols)\n",
    "\n",
    "\n",
    "model.createPipe(\"logistic\")\n",
    "accuracy,precision,recall,f1 = model.getPipeMetrics()\n",
    "print(\"Logistic results\")\n",
    "print(accuracy,precision,recall,f1)\n",
    "\n",
    "model.createPipe(\"tree\")\n",
    "accuracy,precision,recall,f1 = model.getPipeMetrics()\n",
    "print(\"Tree results\")\n",
    "print(accuracy,precision,recall,f1)\n",
    "\n",
    "model.createPipe(\"forest\")\n",
    "accuracy,precision,recall,f1 = model.getPipeMetrics()\n",
    "print(\"Forest results\")\n",
    "print(accuracy,precision,recall,f1)"
   ]
  },
  {
   "cell_type": "markdown",
   "metadata": {},
   "source": [
    "<h3> Criação e obtenção de resultados para os três modelos idealizados aplicando o método de redução de colunas(numTopFeatures = 10)</h3>"
   ]
  },
  {
   "cell_type": "code",
   "execution_count": null,
   "metadata": {},
   "outputs": [],
   "source": [
    "model = MLModel(df,spark,cols,label)\n",
    "model.setTrainLimit(0.4)\n",
    "model.reduceCols(\"topFeatures\",10,cat_cols,cont_cols)\n",
    "\n",
    "\n",
    "model.createPipe(\"logistic\")\n",
    "accuracy,precision,recall,f1 = model.getPipeMetrics()\n",
    "print(\"Logistic results\")\n",
    "print(accuracy,precision,recall,f1)\n",
    "\n",
    "model.createPipe(\"tree\")\n",
    "accuracy,precision,recall,f1 = model.getPipeMetrics()\n",
    "print(\"Tree results\")\n",
    "print(accuracy,precision,recall,f1)\n",
    "\n",
    "model.createPipe(\"forest\")\n",
    "accuracy,precision,recall,f1 = model.getPipeMetrics()\n",
    "print(\"Forest results\")\n",
    "print(accuracy,precision,recall,f1)"
   ]
  },
  {
   "cell_type": "markdown",
   "metadata": {},
   "source": [
    "<h3> Exemplo de Tunning aplicado ao modelo de regressão logistica aplicando o método de redução de colunas(numTopFeatures = 10)</h3>"
   ]
  },
  {
   "cell_type": "code",
   "execution_count": null,
   "metadata": {},
   "outputs": [],
   "source": [
    "model = MLModel(df,spark,cols,label)\n",
    "model.setTrainLimit(0.4)\n",
    "model.reduceCols(\"topFeatures\",10,cat_cols,cont_cols)\n",
    "\n",
    "maxIterV = [100, 85]\n",
    "regParamV = [0.0, 0.1]\n",
    "elasticNetParamV = [0.0, 0.8]\n",
    "best = model.getLogisticTunningParam(maxIterV,regParamV,elasticNetParamV)\n",
    "\n",
    "print(t)"
   ]
  }
 ],
 "metadata": {
  "kernelspec": {
   "display_name": "Python 3",
   "language": "python",
   "name": "python3"
  },
  "language_info": {
   "codemirror_mode": {
    "name": "ipython",
    "version": 3
   },
   "file_extension": ".py",
   "mimetype": "text/x-python",
   "name": "python",
   "nbconvert_exporter": "python",
   "pygments_lexer": "ipython3",
   "version": "3.8.3"
  }
 },
 "nbformat": 4,
 "nbformat_minor": 4
}
